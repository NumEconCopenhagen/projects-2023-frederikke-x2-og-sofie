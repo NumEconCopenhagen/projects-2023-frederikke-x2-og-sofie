{
 "cells": [
  {
   "attachments": {},
   "cell_type": "markdown",
   "metadata": {},
   "source": [
    "**Table of contents**<a id='toc0_'></a>    \n",
    "- 1. [Problem 1: Optimal taxation with government consumption](#toc1_)    \n",
    "- 2. [Problem 2: Labor adjustment costs](#toc2_)    \n",
    "- 3. [Problem 3: Global optimizer with refined multi-start](#toc3_)    \n",
    "\n",
    "<!-- vscode-jupyter-toc-config\n",
    "\tnumbering=true\n",
    "\tanchor=true\n",
    "\tflat=false\n",
    "\tminLevel=2\n",
    "\tmaxLevel=6\n",
    "\t/vscode-jupyter-toc-config -->\n",
    "<!-- THIS CELL WILL BE REPLACED ON TOC UPDATE. DO NOT WRITE YOUR TEXT IN THIS CELL -->"
   ]
  },
  {
   "cell_type": "code",
   "execution_count": 1,
   "metadata": {},
   "outputs": [],
   "source": [
    "from itertools import product\n",
    "import numpy as np\n",
    "import sympy as sp\n",
    "from scipy import optimize\n",
    "from scipy import interpolate\n",
    "from scipy.optimize import minimize_scalar\n",
    "\n",
    "import matplotlib.pyplot as plt\n",
    "from mpl_toolkits.mplot3d import Axes3D\n",
    "plt.style.use('seaborn')\n",
    "import seaborn as sns\n",
    "from IPython.display import display"
   ]
  },
  {
   "attachments": {},
   "cell_type": "markdown",
   "metadata": {},
   "source": [
    "## 1. <a id='toc1_'></a>[Problem 1: Optimal taxation with government consumption](#toc0_)"
   ]
  },
  {
   "attachments": {},
   "cell_type": "markdown",
   "metadata": {},
   "source": [
    "\n",
    "Consider a worker choosing hours of labor, $L\\in[0,24]$, to maximize utility: \n",
    "\n",
    "$$\n",
    "\\begin{align*}\n",
    "V(w,\\tau,G)&=\\max_{L\\in[0,24]}\\ln\\left(C^{\\alpha}G^{1-\\alpha}\\right)-\\nu\\frac{L^{2}}{2}\\\\&\\text{s.t.}\\\\&C=\\kappa+(1-\\tau)wL\n",
    "\\end{align*}\n",
    "$$\n",
    "\n",
    "where \n",
    "\n",
    "* $C$ is *private* consumption with weight $\\alpha\\in(0,1)$.\n",
    "* $\\kappa > 0$ is the *free private* consumption component.\n",
    "* $(1-\\tau)wL$ is the *costly private* consumption component.\n",
    "* $w > 0 $ is the real wage.\n",
    "* $\\tau \\in (0,1)$ is the labor-income tax rate.\n",
    "* $G > 0 $ is *government* consumption with weight $1-\\alpha$.\n",
    "* $\\nu > 0$ is the disutility of labor scaling factor"
   ]
  },
  {
   "attachments": {},
   "cell_type": "markdown",
   "metadata": {},
   "source": [
    "\n",
    "The baseline parameters are:\n",
    "\n",
    "$$\n",
    "\\begin{align*}\n",
    "\\alpha &= 0.5\\\\\n",
    "\\kappa &= 1.0\\\\\n",
    "\\nu &= \\frac{1}{2\\cdot16^2} \\\\\n",
    "w &= 1.0 \\\\ \n",
    "\\tau &= 0.30 \\\\\n",
    "\\end{align*}\n",
    "$$"
   ]
  },
  {
   "attachments": {},
   "cell_type": "markdown",
   "metadata": {},
   "source": [
    "**Question 1:** Verify that the optimal labor supply choice is $L^{\\star}(\\tilde{w}) =\\frac{-\\kappa+\\sqrt{\\kappa^{2}+4\\frac{\\alpha}{\\nu}\\tilde{w}^2}}{2\\tilde{w}}$, where $\\tilde{w} = (1-\\tau)w$, for $G\\in\\left\\{1.0 , 2.0\\right\\}$."
   ]
  },
  {
   "cell_type": "code",
   "execution_count": null,
   "metadata": {},
   "outputs": [],
   "source": [
    "\n",
    "#Import the LaborSupplyModel class\n",
    "from Exam import LaborSupplyModel\n",
    "\n",
    "model = LaborSupplyModel()\n",
    "\n",
    "# Display the equation for the optimal labor supply choice\n",
    "display(model.display_optimal_labor_supply_equation())\n",
    "\n",
    "\n"
   ]
  },
  {
   "attachments": {},
   "cell_type": "markdown",
   "metadata": {},
   "source": [
    "Above is verifyed that the optimal labor supply is given by L^*(w^tilde)"
   ]
  },
  {
   "attachments": {},
   "cell_type": "markdown",
   "metadata": {},
   "source": [
    "**Question 2:** Illustrate how $L^{\\star}(\\tilde{w})$ depends on $w$."
   ]
  },
  {
   "cell_type": "code",
   "execution_count": null,
   "metadata": {},
   "outputs": [],
   "source": [
    "#Import the LaborSupplyGraph class\n",
    "from Exam import LaborSupplyGraph\n",
    "\n",
    "#Define parameters\n",
    "alpha = 0.5\n",
    "kappa = 1.0\n",
    "nu = 1.0 / (2 * 16 ** 2)\n",
    "w = 1.0\n",
    "tau = 0.30\n",
    "G_values = [1.0]\n",
    "\n",
    "#\n",
    "model = LaborSupplyGraph(alpha, kappa, nu, tau)\n",
    "\n",
    "#Create different values for wage\n",
    "w_values = np.linspace(0.1, 3.0, 100)  \n",
    "\n",
    "# Plot the optimal labor supply against the wage\n",
    "model.plot_labor_supply_graph(w_values, G_values)"
   ]
  },
  {
   "attachments": {},
   "cell_type": "markdown",
   "metadata": {},
   "source": [
    "The above figure shows the optimal labor supply against the wage. As the wage increases the optimal labor supply will increase. When the wage is between 0.5 and 1 the curve of the optimal labor supply will flatten, and as wage increase the optimal labor supply will stay around the same level. "
   ]
  },
  {
   "attachments": {},
   "cell_type": "markdown",
   "metadata": {},
   "source": [
    "\n",
    "We now consider a government, who chooses $\\tau$ and spend all of the taxes on government consumption so:\n",
    "\n",
    "$$\n",
    "G = \\tau w L^{\\star}((1-\\tau)w)\n",
    "$$\n",
    "\n",
    "**Question 3:** Plot the implied $L$, $G$ and worker utility for a grid of $\\tau$-values.\n"
   ]
  },
  {
   "cell_type": "code",
   "execution_count": null,
   "metadata": {},
   "outputs": [],
   "source": [
    "#Import LaborSupplyGraphQ3 class\n",
    "from Exam import LaborSupplyGraphQ3\n",
    "\n",
    "#Define parameters\n",
    "alpha = 0.5\n",
    "kappa = 1.0\n",
    "nu = 1.0 / (2 * 16 ** 2)\n",
    "w = 1.0 \n",
    "\n",
    "#Create different tau values\n",
    "tau_values = np.linspace(0, 1, 100)  # Grid of tau values\n",
    "\n",
    "model = LaborSupplyGraphQ3(alpha, kappa, nu)\n",
    "\n",
    "#Plotting L,G and worker utility against different values for tau\n",
    "model.plot_implied_values(w, tau_values)\n"
   ]
  },
  {
   "attachments": {},
   "cell_type": "markdown",
   "metadata": {},
   "source": [
    "The graph to the left shows the relationship between labor supply and the tax rate. There is a negative relationship between the two parameters since a higher tax rate makes it less profitable to work. \n",
    "\n",
    "The graph in the middle shows the relationship beetween government spending and the tax rate. A higher tax rate has a positive effect on the government consumption when it is not too high. When the tax rate becomes too high there are no incentive to work, which lowers the government consumption. \n",
    "\n",
    "The graph to the right shows the relationship between worker utility and the tax rate. The worker gets advantage of a low tax however the incentive to work decreases when the tax rate becomes high. "
   ]
  },
  {
   "attachments": {},
   "cell_type": "markdown",
   "metadata": {},
   "source": [
    "**Question 4:** Find the socially optimal tax rate $\\tau^{\\star}\\in(0,1)$ maximizing worker utility. Illustrate your result."
   ]
  },
  {
   "cell_type": "code",
   "execution_count": null,
   "metadata": {},
   "outputs": [],
   "source": [
    "#Import LaborSupplyGraphQ4 class\n",
    "from Exam import LaborSupplyGraphQ4\n",
    "\n",
    "#Define parameters\n",
    "alpha = 0.5\n",
    "kappa = 1.0\n",
    "nu = 1.0 / (2 * 16 ** 2)\n",
    "w = 1.0\n",
    "\n",
    "#Create values for tau\n",
    "tau_range = np.linspace(0.0, 1.0, 100)  \n",
    "\n",
    "model = LaborSupplyGraphQ4(alpha, kappa, nu)\n",
    "\n",
    "# Plotting the worker utility and find the socially optimal tax rate\n",
    "model.plot_optimal_tax_rate(w, tau_range)"
   ]
  },
  {
   "attachments": {},
   "cell_type": "markdown",
   "metadata": {},
   "source": [
    "The graph above shows that the socially optimal tax rate is 0.515. The worker utility will increase until the point where the tax rate is 0.515, after this point the worker utility will decrease."
   ]
  },
  {
   "attachments": {},
   "cell_type": "markdown",
   "metadata": {},
   "source": [
    "A more general preference formulation for the worker is:\n",
    "\n",
    "$$\n",
    "\\begin{align*}\n",
    "\\mathcal{V}(w,\\tau,G)&=\\max_{L\\in[0,24]}\\frac{\\left[ \\left( \\alpha C^{\\frac{\\sigma-1}{\\sigma}}+(1-\\alpha) G^{\\frac{\\sigma-1}{\\sigma}} \\right)^{\\frac{\\sigma}{1-\\sigma} }\\right]^{1-\\rho}-1}{1-\\rho}- \\nu\\frac{L^{1+\\varepsilon}}{1+\\varepsilon},\\,\\,\\,\\varepsilon,\\rho,\\sigma>0,\\,\\,\\,\\rho,\\sigma\\neq1\\\\&\\text{s.t.}\\\\&C=\\kappa+(1-\\tau)wL\n",
    "\\end{align*}    \n",
    "$$\n",
    "\n",
    "Optimal labor supply is now $L^{\\star}(\\tilde{w},G)$."
   ]
  },
  {
   "attachments": {},
   "cell_type": "markdown",
   "metadata": {},
   "source": [
    "Questions 5 and 6 must be answered with the general formulation, and for 2 different set of parameters:\n",
    "\n",
    "- Set 1:  $\\sigma = 1.001$, $\\rho = 1.001$ and $\\varepsilon = 1.0$.\n",
    "- Set 2:  $\\sigma = 1.5$, $\\rho = 1.5$ and $\\varepsilon = 1.0 $."
   ]
  },
  {
   "attachments": {},
   "cell_type": "markdown",
   "metadata": {},
   "source": [
    "**Question 5:** Find the $G$ that solves $G = \\tau w L^{\\star}((1-\\tau)w,G)$ using the $\\tau$ found in question 4.\n",
    "\n",
    "*Hint: First write code that solves the worker problem for given values of $G$ and $\\tau$. Then find the correct G based on this.*"
   ]
  },
  {
   "cell_type": "code",
   "execution_count": 4,
   "metadata": {},
   "outputs": [
    {
     "name": "stdout",
     "output_type": "stream",
     "text": [
      "The optimal G for tau = 0.5151515151515152 is: 12.36363449087662\n"
     ]
    }
   ],
   "source": [
    "\n",
    "#Import LaborSupplyGraphQ5 class\n",
    "from Exam import LaborSupplyGraphQ5\n",
    "\n",
    "#Define parameters\n",
    "alpha = 0.5\n",
    "kappa = 1.0\n",
    "nu = 1.0/(1*16**2)\n",
    "sigma = 1.001\n",
    "rho = 1.001\n",
    "epsilon = 1.0\n",
    "\n",
    "w = 1.0\n",
    "tau = 0.5151515151515152\n",
    "\n",
    "model = LaborSupplyGraphQ5(alpha, kappa, nu, sigma, rho, epsilon)\n",
    "optimal_G = model.solve_optimal_G(w, tau)\n",
    "\n",
    "model = LaborSupplyGraphQ5(alpha, kappa, nu, sigma, rho, epsilon)\n",
    "\n",
    "# Range of tax rates from 0 to 1\n",
    "tau_range = np.linspace(0, 1, 100)  \n",
    "\n",
    "print(f\"The optimal G for tau = {tau} is: {optimal_G}\")\n"
   ]
  },
  {
   "cell_type": "code",
   "execution_count": 2,
   "metadata": {},
   "outputs": [
    {
     "name": "stdout",
     "output_type": "stream",
     "text": [
      "The optimal G for tau = 0.5151515151515152 is: 11.008814934876403\n"
     ]
    }
   ],
   "source": [
    "\n",
    "#Import LaborSupplyGraphQ5 class\n",
    "from Exam import LaborSupplyGraphQ5\n",
    "\n",
    "#Define parameters\n",
    "alpha = 0.5\n",
    "kappa = 1.0\n",
    "nu = 1.0/(1*16**2)\n",
    "sigma = 1.5\n",
    "rho = 1.5\n",
    "epsilon = 1.0\n",
    "\n",
    "w = 1.0\n",
    "tau = 0.5151515151515152\n",
    "\n",
    "model = LaborSupplyGraphQ5(alpha, kappa, nu, sigma, rho, epsilon)\n",
    "optimal_G = model.solve_optimal_G(w, tau)\n",
    "\n",
    "model = LaborSupplyGraphQ5(alpha, kappa, nu, sigma, rho, epsilon)\n",
    "\n",
    "# Range of tax rates from 0 to 1\n",
    "tau_range = np.linspace(0, 1, 100)  \n",
    "\n",
    "print(f\"The optimal G for tau = {tau} is: {optimal_G}\")"
   ]
  },
  {
   "attachments": {},
   "cell_type": "markdown",
   "metadata": {},
   "source": [
    "**Question 6:** Find the socially optimal tax rate, $\\tau^{\\star}$, maximizing worker utility, while keeping $G = \\tau w L^{\\star}((1-\\tau)w,G)$."
   ]
  },
  {
   "cell_type": "code",
   "execution_count": 3,
   "metadata": {},
   "outputs": [
    {
     "name": "stdout",
     "output_type": "stream",
     "text": [
      "Optimal Tax Rate: 0.3913583505333243\n",
      "Corresponding Optimal G: 0.47844533810372325\n"
     ]
    }
   ],
   "source": [
    "#Import LaborSupplyGraphQ6 class\n",
    "from Exam import LaborSupplyGraphQ6\n",
    "\n",
    "#Define parameters\n",
    "alpha = 0.5\n",
    "kappa = 1.0\n",
    "nu = 1.0 / (2 * 16 ** 2)\n",
    "sigma = 1.5\n",
    "rho = 1.5\n",
    "epsilon = 1.0\n",
    "\n",
    "w = 1.0\n",
    "\n",
    "#Creating tau values\n",
    "tau_range = np.linspace(0.0, 1.0, 100)  # Grid of tau values\n",
    "\n",
    "model = LaborSupplyGraphQ6(alpha, kappa, nu, sigma, rho, epsilon)\n",
    "\n",
    "optimal_tax_rate, optimal_G = model.solve_optimal_tax_rate(w)\n",
    "print(\"Optimal Tax Rate:\", optimal_tax_rate)\n",
    "print(\"Corresponding Optimal G:\", optimal_G)\n"
   ]
  },
  {
   "attachments": {},
   "cell_type": "markdown",
   "metadata": {},
   "source": [
    "## 2. <a id='toc2_'></a>[Problem 2: Labor adjustment costs](#toc0_)"
   ]
  },
  {
   "attachments": {},
   "cell_type": "markdown",
   "metadata": {},
   "source": [
    "You own a hair salon. You employ hairdressers, $\\ell_t$, to produce haircuts, $y_t = \\ell_t$.\n",
    "\n",
    "The wage for each haridresser is $w$.\n",
    "\n",
    "The demand for haircuts implies that the price of haircuts you can charge is $p_t = \\kappa_t y_t^{-\\eta}$, where $\\kappa_t$ is a demand-shock and $\\eta \\in (0,1)$ measures the elasticity of demand.\n",
    "\n",
    "Profits are:\n",
    "\n",
    "$$\n",
    "\\Pi_t = p_t y_t - w \\ell_t = \\kappa_t \\ell_t^{1-\\eta} - w \\ell_t\n",
    "$$"
   ]
  },
  {
   "attachments": {},
   "cell_type": "markdown",
   "metadata": {},
   "source": [
    "Baseline parameters are:\n",
    "- $\\eta = 0.5$\n",
    "- $w = 1.0$"
   ]
  },
  {
   "attachments": {},
   "cell_type": "markdown",
   "metadata": {},
   "source": [
    "**Question 1:** Verify numerically that $\\ell_{t}=\\left(\\frac{(1-\\eta)\\kappa_{t}}{w}\\right)^{\\frac{1}{\\eta}}$ maximises profits, for $\\kappa\\in\\left\\{1.0 , 2.0\\right\\}$.\n",
    "\n"
   ]
  },
  {
   "cell_type": "code",
   "execution_count": null,
   "metadata": {},
   "outputs": [],
   "source": [
    "#Import Class\n",
    "from ExamQ2 import HairSalonQ1\n",
    "\n",
    "salon = HairSalonQ1(kappa=1.0, eta=0.5, w=1.0)\n",
    "\n",
    "#Finding the expression for the optimal number of hairdressers l \n",
    "optimal_ell_expr = salon.calculate_optimal_ell()\n",
    "\n",
    "# Creating the equation for the optimal l\n",
    "equation = sp.Eq(salon.ell, optimal_ell_expr)\n",
    "\n",
    "# Printing the equation\n",
    "equation"
   ]
  },
  {
   "attachments": {},
   "cell_type": "markdown",
   "metadata": {},
   "source": [
    "We now consider a *dynamic* version of the model.\n",
    "\n",
    "* The demand-shock is a so-called AR(1) in logs, \n",
    "\n",
    "$$\n",
    "\\log \\kappa_{t} = \\rho \\log \\kappa_{t-1} + \\epsilon_{t},\\,\\,\\, \\epsilon_{t+1} \\sim \\mathcal{N}(-0.5\\sigma_{\\epsilon}^2,\\sigma_{\\epsilon})\n",
    "$$\n",
    "\n",
    "* Any hiring or firing implies a fixed adjustment cost, $\\iota > 0 $.\n",
    "* Future profits are discounted with a monthly factor of $R \\in (0,1)$.\n",
    "\n",
    "The initial demand shock is $\\kappa_{-1} = 1$ and the planning horizon is 10 years, i.e. 120 months so $t \\in \\{0,1,2,\\dots,119\\}$. Initially you don't have any employees, $\\ell_{-1}=0$"
   ]
  },
  {
   "attachments": {},
   "cell_type": "markdown",
   "metadata": {},
   "source": [
    "\n",
    "The *ex post* value of the salon is *conditional* on the shock series is:\n",
    "\n",
    "$$\n",
    "h(\\epsilon_0,\\epsilon_1,\\dots,\\epsilon_{119}) = \\left[\\sum_{t=0}^{119}R^{-t}\\left[\\kappa_{t}\\ell_{t}^{1-\\eta}-w\\ell_{t}-\\boldsymbol{1}_{\\ell_{t}\\neq\\ell_{t-1}}\\iota\\right]\\right]\n",
    "$$\n",
    "\n",
    "The *ex ante* expected value of the salon can be approximated by\n",
    "\n",
    "$$\n",
    "H = \\mathbb{E}[h(\\epsilon_0,\\epsilon_1,\\dots,\\epsilon_{119})] \\approx \\frac{1}{K}\\sum_{k=0}^{K} h(\\epsilon_0^k,\\epsilon_1^k,\\dots,\\epsilon_{119}^k)\n",
    "$$\n",
    "\n",
    "where each $k\\in\\{0,1,\\dots,K-1\\}$ is a random shock series. Maximizing profitability means maximizing $H$.\n"
   ]
  },
  {
   "attachments": {},
   "cell_type": "markdown",
   "metadata": {},
   "source": [
    "Baseline parameters are: \n",
    "\n",
    "- $\\rho = 0.90$\n",
    "- $\\iota = 0.01$\n",
    "- $\\sigma_{\\epsilon} = 0.10$\n",
    "- $R = \\left(1+0.01\\right)^{1/12}$"
   ]
  },
  {
   "attachments": {},
   "cell_type": "markdown",
   "metadata": {},
   "source": [
    "**Question 2:** Calculate $H$ if the policy  $\\ell_{t}=\\left(\\frac{(1-\\eta)\\kappa_{t}}{w}\\right)^{\\frac{1}{\\eta}}$ from question 1 is followed. Choose $K$ so the approximation is good enough to not affect your results substantially."
   ]
  },
  {
   "cell_type": "code",
   "execution_count": null,
   "metadata": {},
   "outputs": [],
   "source": [
    "#Import Class\n",
    "from ExamQ2 import HairSalonQ2\n",
    "\n",
    "#Setting the parameter values\n",
    "rho = 0.90\n",
    "eta = 0.5\n",
    "wage = 1.0\n",
    "iota = 0.01\n",
    "sigma_epsilon = 0.10\n",
    "R = (1 + 0.01) ** (1 / 12)\n",
    "\n",
    "salon = HairSalonQ2(rho, eta, wage, iota, sigma_epsilon, R)\n",
    "\n",
    "#Finding the expected value of the hair salon H\n",
    "K = 10000  # Number of shock series to simulate\n",
    "expected_h = salon.calculate_expected_h(K)\n",
    "\n",
    "print(f\"The expected value of the salon (H) is approximately: {expected_h}\")\n"
   ]
  },
  {
   "attachments": {},
   "cell_type": "markdown",
   "metadata": {},
   "source": [
    "Next, we consider policies on the form:\n",
    "\n",
    "$$\n",
    "\n",
    "\\ell_{t}=\\begin{cases}\n",
    "\\ell_t^{\\ast}  & \\text{if }\\left|\\ell_{t-1}-\\ell_t^{\\ast} \\right|>\\Delta\\\\\n",
    "\\ell_{t-1} & \\text{else }\n",
    "\\end{cases}\n",
    "\\\\\n",
    "\\text{where}\\,\\,\\ell_t^{\\ast} = \\left(\\frac{(1-\\eta)\\kappa_{t}}{w}\\right)^{\\frac{1}{\\eta}} \\\\\n",
    "\n",
    "$$\n",
    "With $\\Delta \\geq 0$ and $\\Delta = 0$ being the previous policy.\n"
   ]
  },
  {
   "attachments": {},
   "cell_type": "markdown",
   "metadata": {},
   "source": [
    "\n",
    "**Question 3:** Calculate $H$ if the policy above was followed with $\\Delta = 0.05$. Does it improve profitability?"
   ]
  },
  {
   "cell_type": "code",
   "execution_count": null,
   "metadata": {},
   "outputs": [],
   "source": [
    "#Import Class\n",
    "from ExamQ2 import HairSalonQ3\n",
    "\n",
    "# Setting the parameter values\n",
    "rho = 0.90\n",
    "eta = 0.5\n",
    "wage = 1.0\n",
    "iota = 0.01\n",
    "sigma_epsilon = 0.10\n",
    "R = (1 + 0.01) ** (1 / 12)\n",
    "delta = 0.05\n",
    "\n",
    "salon = HairSalonQ3(rho, eta, wage, iota, sigma_epsilon, R, delta)\n",
    "\n",
    "#Finding the expected value of the hair salon given the new policy\n",
    "K = 10000  # Number of shock series to simulate\n",
    "expected_h_new_policy = salon.calculate_expected_h(K)\n",
    "\n",
    "print(f\"The expected value of the salon with the new policy (H) is approximately: {expected_h_new_policy}\")\n"
   ]
  },
  {
   "attachments": {},
   "cell_type": "markdown",
   "metadata": {},
   "source": [
    "The new policy increases profitability from appox. 27.71 to 28.1 "
   ]
  },
  {
   "attachments": {},
   "cell_type": "markdown",
   "metadata": {},
   "source": [
    "**Question 4:** Find the optimal $\\Delta$ maximizing $H$. Illustrate your result."
   ]
  },
  {
   "cell_type": "code",
   "execution_count": 2,
   "metadata": {},
   "outputs": [
    {
     "name": "stdout",
     "output_type": "stream",
     "text": [
      "The optimal delta that maximizes H is approximately: 0.057865296210767955\n",
      "The maximum expected value of the salon (H) is approximately: 28.4084981414174\n"
     ]
    },
    {
     "data": {
      "image/png": "[encoded data removed]",
      "text/plain": [
       "<Figure size 800x550 with 1 Axes>"
      ]
     },
     "metadata": {},
     "output_type": "display_data"
    }
   ],
   "source": [
    "#Import Class\n",
    "from ExamQ2 import HairSalonoptimalQ4\n",
    "\n",
    "#Setting the parameter values\n",
    "rho = 0.90\n",
    "eta = 0.5\n",
    "wage = 1.0\n",
    "iota = 0.01\n",
    "sigma_epsilon = 0.10\n",
    "R = (1 + 0.01) ** (1 / 12)\n",
    "\n",
    "salon = HairSalonoptimalQ4(rho, eta, wage, iota, sigma_epsilon, R)\n",
    "\n",
    "#Setting bounds for optimization for delta\n",
    "delta_lower_bound = 0.0\n",
    "delta_upper_bound = 0.1\n",
    "\n",
    "#Optimizing\n",
    "optimal_delta, optimal_h = salon.find_optimal_delta(delta_lower_bound, delta_upper_bound)\n",
    "\n",
    "print(f\"The optimal delta that maximizes H is approximately: {optimal_delta}\")\n",
    "print(f\"The maximum expected value of the salon (H) is approximately: {optimal_h}\")\n",
    "\n",
    "# Plotting the values of H for different delta values\n",
    "delta_values = np.linspace(delta_lower_bound, delta_upper_bound, 100)\n",
    "h_values = []\n",
    "\n",
    "for delta in delta_values:\n",
    "    h_value = salon.objective_function(delta)\n",
    "    h_values.append(h_value)\n",
    "\n",
    "salon.plot_h_values(delta_values, h_values)"
   ]
  },
  {
   "attachments": {},
   "cell_type": "markdown",
   "metadata": {},
   "source": [
    "\n",
    "**Question 5:** Suggest an alternative policy you believe might improve profitability. Implement and test your policy.\n",
    "\n"
   ]
  },
  {
   "attachments": {},
   "cell_type": "markdown",
   "metadata": {},
   "source": [
    "An alternative policy that might improve profitability is by using dynamic pricing. When using dynamic pricing the hair salon can adjust prices depending on the demand level, the salon is therefore able to react when there is changes in demand \n",
    "\n",
    "We do this by importing a demand data class which generates different random shock series for the demand levels this can be used when calculating the profitability H, because it simulates different scenarios. "
   ]
  },
  {
   "cell_type": "code",
   "execution_count": null,
   "metadata": {},
   "outputs": [],
   "source": [
    "#Import Classes\n",
    "from ExamQ2 import HairSalonDynamicQ5\n",
    "from ExamQ2 import DemandDataQ5\n",
    "\n",
    "#Define the function in order to calculate H\n",
    "def calculate_H(salon, demand_data):\n",
    "    R = (1 + 0.01) ** (1/12)\n",
    "    K = 1000  # Number of random shock series\n",
    "\n",
    "    total_h = 0.0\n",
    "    for k in range(K):\n",
    "        h = 0.0\n",
    "        epsilon_series = demand_data.generate_epsilon_series()  # Generate random shock series\n",
    "        for t in range(len(epsilon_series)):\n",
    "            demand_level = epsilon_series[t]\n",
    "            dynamic_price = salon.calculate_dynamic_price(demand_level)\n",
    "\n",
    "            # Update h using the dynamic price and other relevant variables\n",
    "            h += R ** (-t) * dynamic_price\n",
    "\n",
    "        total_h += h\n",
    "\n",
    "    H = total_h / K\n",
    "    return H\n",
    "\n",
    "base_price = 1.0\n",
    "salon = HairSalonDynamicQ5(base_price)\n",
    "\n",
    "#Defining variables\n",
    "num_periods = 120\n",
    "rho = 0.90\n",
    "sigma_epsilon = 0.10\n",
    "demand_data = DemandDataQ5(num_periods, rho, sigma_epsilon)\n",
    "\n",
    "H = calculate_H(salon, demand_data)\n",
    "\n",
    "# Print the calculated value of H\n",
    "print(\"The expected value of H when using dynamic pricing:\", H)\n",
    "\n",
    "\n"
   ]
  },
  {
   "attachments": {},
   "cell_type": "markdown",
   "metadata": {},
   "source": [
    "When implementing dynamic pricing the expected value of H rises to approx 108.8, which is higher then the profitability of question 4. "
   ]
  },
  {
   "attachments": {},
   "cell_type": "markdown",
   "metadata": {},
   "source": [
    "## 3. <a id='toc3_'></a>[Problem 3: Global optimizer with refined multi-start](#toc0_)"
   ]
  },
  {
   "attachments": {},
   "cell_type": "markdown",
   "metadata": {},
   "source": [
    "We consider the Griewank function:\n",
    "\n",
    "$$ f(\\boldsymbol{x}) = \\sum^n_{i=1} \\frac{x^2_i}{4000}-\\prod^n_{i=1}\\cos\\left(\\frac{x_i}{\\sqrt{i}}\\right)+1$$\n",
    "\n",
    "The **global minimum** of this function is $f(0,0) = 0$ (remember: $\\cos(0)=1$).<br>\n",
    "But the function also have a lot of **local minima**."
   ]
  },
  {
   "cell_type": "code",
   "execution_count": null,
   "metadata": {},
   "outputs": [],
   "source": [
    "def griewank(x):\n",
    "    return griewank_(x[0],x[1])\n",
    "    \n",
    "    \n",
    "def griewank_(x1,x2):\n",
    "    A = x1**2/4000 + x2**2/4000\n",
    "    B = np.cos(x1/np.sqrt(1))*np.cos(x2/np.sqrt(2))\n",
    "    return A-B+1"
   ]
  },
  {
   "attachments": {},
   "cell_type": "markdown",
   "metadata": {},
   "source": [
    "A **refined global optimizer with multi-start** is:\n",
    "\n",
    "1. Choose *bounds* for $\\mathbf{x}$ and *tolerance* $\\tau > 0$.\n",
    "2. Choose number of *warm-up iterations*, $\\underline{K} > 0$ and *maximum number of iterations*, $K > \\underline{K}$.\n",
    "3. In each iteration for $k \\in \\{0,1,\\dots,K-1\\}$:\n",
    "\n",
    "    A. Draw random $\\mathbf{x}^k$ uniformly within chosen bounds.\n",
    "\n",
    "    B. If $k < \\underline{K}$ go to step E.\n",
    "\n",
    "    C. Calculate $\\chi^k = 0.50\\cdot\\frac{2}{1+\\exp((k-\\underline{K})/100)}$  \n",
    "\n",
    "    D. Set $\\mathbf{x}^{k0} = \\chi^k \\mathbf{x}^k + (1-\\chi^k)\\mathbf{x}^{\\ast} $\n",
    "\n",
    "    E. Run optimizer with $\\mathbf{x}^{k0}$ as initial guess and $\\mathbf{x}^{k\\ast}$ as result.\n",
    "\n",
    "    F. Set $\\mathbf{x}^{\\ast} = \\mathbf{x}^{k\\ast}$ if $k = 0$ or $f(\\mathbf{x}^{k\\ast}) < f(\\mathbf{x}^{\\ast})$\n",
    "\n",
    "    G. If $f(\\mathbf{x}^{\\ast}) < \\tau$ go to step 4.\n",
    "\n",
    "4. Return the result $\\mathbf{x}^{\\ast}$."
   ]
  },
  {
   "attachments": {},
   "cell_type": "markdown",
   "metadata": {},
   "source": [
    "As settings we choose:\n",
    "\n",
    "* $x_1,x_2 \\in  [-600,600]$\n",
    "* $\\tau = 10^{-8}$\n",
    "* $\\underline{K}=10$\n",
    "* $K=1000$\n",
    "\n",
    "The optimizer in Step 3.E is `BFGS` with a tolerance of $\\tau$."
   ]
  },
  {
   "attachments": {},
   "cell_type": "markdown",
   "metadata": {},
   "source": [
    "**Question 1:** Implement the refined global optimizer with multi-start. Illustrate how the effective initial guesses $\\mathbf{x}^{k0}$ vary with the iteration counter $k$."
   ]
  },
  {
   "cell_type": "code",
   "execution_count": null,
   "metadata": {},
   "outputs": [],
   "source": [
    "#Import Class\n",
    "from ExamQ3 import GriewankOptimizer\n",
    "\n",
    "#We now create an instance of the model with the specified parameters\n",
    "optimizer = GriewankOptimizer(bounds=[-600, 600], tolerance=1e-8, warmup_iters=10, max_iters=1000)\n",
    "\n",
    "#We now perform the optimization process\n",
    "optimizer.optimize()\n",
    "\n",
    "#We then plot the trajectory of initial guesses and the global minimum\n",
    "optimizer.plot_initial_guesses_2d()\n",
    "\n",
    "optimizer.plot_initial_guesses_3d()"
   ]
  },
  {
   "attachments": {},
   "cell_type": "markdown",
   "metadata": {},
   "source": [
    "The 2D plot shows that the global minima is in (0,0). The minima is located where the density is strongest in the 3D plot. The guesses are plotted around the global minima, however some outliers appear. From the 3D plot it is shown that the guesses are plottet in a convex function around the global minima. "
   ]
  },
  {
   "attachments": {},
   "cell_type": "markdown",
   "metadata": {},
   "source": [
    "**Question 2:** Is it a better idea to set $\\underline{K} = 100$? Is the convergence faster?"
   ]
  },
  {
   "cell_type": "code",
   "execution_count": null,
   "metadata": {},
   "outputs": [],
   "source": [
    "#Import Class\n",
    "from ExamQ3 import GriewankOptimizer\n",
    "\n",
    "#We now create an instance of the model with the specified parameters where warmup_iters now equals 100\n",
    "optimizer = GriewankOptimizer(bounds=[-600, 600], tolerance=1e-8, warmup_iters=100, max_iters=1000)\n",
    "\n",
    "#We now perform the optimization process\n",
    "optimizer.optimize()\n",
    "\n",
    "#We then plot the trajectory of initial guesses and the global minimum\n",
    "optimizer.plot_initial_guesses_2d()\n",
    "\n",
    "optimizer.plot_initial_guesses_3d()"
   ]
  },
  {
   "attachments": {},
   "cell_type": "markdown",
   "metadata": {},
   "source": [
    "When we set the warmup_iters to 100 the guesses are more scattered around the global minima in (0,0). The convergence does not appear faster, because the guesses are more scattered. "
   ]
  }
 ],
 "metadata": {
  "kernelspec": {
   "display_name": "base",
   "language": "python",
   "name": "python3"
  },
  "language_info": {
   "codemirror_mode": {
    "name": "ipython",
    "version": 3
   },
   "file_extension": ".py",
   "mimetype": "text/x-python",
   "name": "python",
   "nbconvert_exporter": "python",
   "pygments_lexer": "ipython3",
   "version": "3.9.13"
  },
  "orig_nbformat": 4,
  "vscode": {
   "interpreter": {
    "hash": "3bad1400a985ed62f7a4654f3d53fc94f6f414c6319020b9b35ca558e84cb054"
   }
  }
 },
 "nbformat": 4,
 "nbformat_minor": 2
}
