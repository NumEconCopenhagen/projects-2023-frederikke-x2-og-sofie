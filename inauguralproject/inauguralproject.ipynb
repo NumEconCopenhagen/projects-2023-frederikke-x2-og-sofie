{
 "cells": [
  {
   "cell_type": "markdown",
   "metadata": {},
   "source": [
    "# Inaugural Project"
   ]
  },
  {
   "attachments": {},
   "cell_type": "markdown",
   "metadata": {},
   "source": [
    "> **Note the following:** \n",
    "> 1. This is an example of how to structure your **inaugural project**.\n",
    "> 1. Remember the general advice on structuring and commenting your code\n",
    "> 1. The `inauguralproject.py` file includes a function which can be used multiple times in this notebook."
   ]
  },
  {
   "cell_type": "markdown",
   "metadata": {},
   "source": [
    "Imports and set magics:"
   ]
  },
  {
   "cell_type": "code",
   "execution_count": 1,
   "metadata": {},
   "outputs": [],
   "source": [
    "import numpy as np\n",
    "\n",
    "# autoreload modules when code is run. Otherwise, python will not see recent changes. \n",
    "%load_ext autoreload\n",
    "%autoreload 2\n",
    "\n",
    "# Import your own code\n",
    "import inauguralproject\n",
    "from HouseholdSpecializationModel import HouseholdSpecializationModelClass\n",
    "\n",
    "import matplotlib.pyplot as plt\n",
    "plt.rcParams.update({\"axes.grid\":True,\"grid.color\":\"black\",\"grid.alpha\":\"0.25\",\"grid.linestyle\":\"--\"})\n",
    "plt.rcParams.update({'font.size': 14})"
   ]
  },
  {
   "attachments": {},
   "cell_type": "markdown",
   "metadata": {},
   "source": [
    "- ændring"
   ]
  },
  {
   "cell_type": "code",
   "execution_count": 2,
   "metadata": {},
   "outputs": [],
   "source": [
    "# Import Class\n",
    "model = HouseholdSpecializationModelClass()\n"
   ]
  },
  {
   "cell_type": "markdown",
   "metadata": {},
   "source": [
    "# Question 1"
   ]
  },
  {
   "cell_type": "markdown",
   "metadata": {},
   "source": [
    "**Explain how you solve the model**"
   ]
  },
  {
   "cell_type": "code",
   "execution_count": 3,
   "metadata": {},
   "outputs": [
    {
     "name": "stderr",
     "output_type": "stream",
     "text": [
      "/Users/frederikkelund/Library/CloudStorage/OneDrive-Personligt/Dokumenter/8 Semester/Python/projects-2023-frederikke-x2-og-sofie/inauguralproject/HouseholdSpecializationModel.py:67: RuntimeWarning: invalid value encountered in reciprocal\n",
      "  utility = np.fmax(Q,1e-8)**(1-par.rho)/(1-par.rho)\n"
     ]
    },
    {
     "data": {
      "text/plain": [
       "[0.3076923076923077, 1.0, 3.25]"
      ]
     },
     "execution_count": 3,
     "metadata": {},
     "output_type": "execute_result"
    }
   ],
   "source": [
    "# To find the changes in HF/HM when alpha=[0.25 , 0.5 , 0.75] is found by making a for loop:\n",
    "\n",
    "HF_HM_alpha = [] #defineing an empty list, for the values of HF/HM when alpha changes\n",
    "alphas = [0.25, 0.50, 0.75] #the alpha values\n",
    "\n",
    "for alpha in alphas: #for loop\n",
    "    model.par.alpha = alpha #importing the alpha from the Class\n",
    "    opt = model.solve_discrete() #importing the discrete function\n",
    "    HF_HM_alpha.append(opt.HF/opt.HM) #defining function HF/HM\n",
    "HF_HM_alpha #printing out the values for HF/HM when alpha changes"
   ]
  },
  {
   "cell_type": "code",
   "execution_count": 4,
   "metadata": {},
   "outputs": [
    {
     "name": "stderr",
     "output_type": "stream",
     "text": [
      "/Users/frederikkelund/Library/CloudStorage/OneDrive-Personligt/Dokumenter/8 Semester/Python/projects-2023-frederikke-x2-og-sofie/inauguralproject/HouseholdSpecializationModel.py:63: RuntimeWarning: divide by zero encountered in reciprocal\n",
      "  H = ((1-par.alpha)*HM**((par.sigma-1)/par.sigma)+par.alpha*HF**((par.sigma-1)/par.sigma))**(par.sigma/(par.sigma-1))\n",
      "/Users/frederikkelund/Library/CloudStorage/OneDrive-Personligt/Dokumenter/8 Semester/Python/projects-2023-frederikke-x2-og-sofie/inauguralproject/HouseholdSpecializationModel.py:63: RuntimeWarning: invalid value encountered in reciprocal\n",
      "  H = ((1-par.alpha)*HM**((par.sigma-1)/par.sigma)+par.alpha*HF**((par.sigma-1)/par.sigma))**(par.sigma/(par.sigma-1))\n"
     ]
    },
    {
     "data": {
      "text/plain": [
       "[1.8333333333333333, 3.25, 4.666666666666667]"
      ]
     },
     "execution_count": 4,
     "metadata": {},
     "output_type": "execute_result"
    }
   ],
   "source": [
    "#The same for sigma\n",
    "HF_HM_sigma = []\n",
    "sigmas = [0.5, 1.0, 1.5]\n",
    "\n",
    "for sigma in sigmas:\n",
    "    model.par.sigma = sigma\n",
    "    opt = model.solve_discrete()\n",
    "    HF_HM_sigma.append(opt.HF/opt.HM)\n",
    "HF_HM_sigma"
   ]
  },
  {
   "attachments": {},
   "cell_type": "markdown",
   "metadata": {},
   "source": [
    "When $\\alpha$ changes the values for $\\frac{HF}{HM}$ becomes:\n",
    "- alpha = 0.25 -> HF/HM = 0.21\n",
    "- alpha = 0.50 -> HF/HM = 1.0\n",
    "- alpha = 0.75 -> HF/HM = 4.67\n",
    "\n",
    "When sigma changes the values for HF/HM becomes:\n",
    "- sigma = 0.5 -> HF/HM = 3.25\n",
    "- sigma = 1.0 -> HF/HM = 3.25\n",
    "- sigma = 1.5 -> HF/HM = 3.25"
   ]
  },
  {
   "cell_type": "markdown",
   "metadata": {},
   "source": [
    "# Question 2"
   ]
  },
  {
   "cell_type": "markdown",
   "metadata": {},
   "source": [
    "Explain your code and procedure"
   ]
  },
  {
   "cell_type": "code",
   "execution_count": 5,
   "metadata": {},
   "outputs": [
    {
     "ename": "NameError",
     "evalue": "name 'par' is not defined",
     "output_type": "error",
     "traceback": [
      "\u001b[0;31m---------------------------------------------------------------------------\u001b[0m",
      "\u001b[0;31mNameError\u001b[0m                                 Traceback (most recent call last)",
      "\u001b[0;32m/var/folders/4z/wf9qts311_l6__4y75rztx8c0000gn/T/ipykernel_39045/598624892.py\u001b[0m in \u001b[0;36m<module>\u001b[0;34m\u001b[0m\n\u001b[1;32m      1\u001b[0m \u001b[0;32mimport\u001b[0m \u001b[0mmath\u001b[0m\u001b[0;34m\u001b[0m\u001b[0;34m\u001b[0m\u001b[0m\n\u001b[0;32m----> 2\u001b[0;31m \u001b[0mlog_HF_HM\u001b[0m \u001b[0;34m=\u001b[0m \u001b[0mmath\u001b[0m\u001b[0;34m.\u001b[0m\u001b[0mlog\u001b[0m\u001b[0;34m(\u001b[0m\u001b[0mpar\u001b[0m\u001b[0;34m.\u001b[0m\u001b[0mHF\u001b[0m\u001b[0;34m/\u001b[0m\u001b[0mpar\u001b[0m\u001b[0;34m.\u001b[0m\u001b[0mHM\u001b[0m\u001b[0;34m)\u001b[0m\u001b[0;34m\u001b[0m\u001b[0;34m\u001b[0m\u001b[0m\n\u001b[0m\u001b[1;32m      3\u001b[0m \u001b[0;34m\u001b[0m\u001b[0m\n\u001b[1;32m      4\u001b[0m \u001b[0mlog_wF_wM\u001b[0m \u001b[0;34m=\u001b[0m \u001b[0;34m[\u001b[0m\u001b[0;34m]\u001b[0m\u001b[0;34m\u001b[0m\u001b[0;34m\u001b[0m\u001b[0m\n\u001b[1;32m      5\u001b[0m \u001b[0mwFs\u001b[0m \u001b[0;34m=\u001b[0m \u001b[0;34m[\u001b[0m\u001b[0;36m0.8\u001b[0m\u001b[0;34m,\u001b[0m \u001b[0;36m0.9\u001b[0m\u001b[0;34m,\u001b[0m \u001b[0;36m1.0\u001b[0m\u001b[0;34m,\u001b[0m \u001b[0;36m1.1\u001b[0m\u001b[0;34m,\u001b[0m \u001b[0;36m1.2\u001b[0m\u001b[0;34m]\u001b[0m\u001b[0;34m\u001b[0m\u001b[0;34m\u001b[0m\u001b[0m\n",
      "\u001b[0;31mNameError\u001b[0m: name 'par' is not defined"
     ]
    }
   ],
   "source": [
    "import math\n",
    "log_HF_HM = math.log(par.HF/par.HM)\n",
    "\n",
    "log_wF_wM = []\n",
    "wFs = [0.8, 0.9, 1.0, 1.1, 1.2]\n",
    "\n",
    "for wF in wFs:\n",
    "    model.par.wF = wF\n",
    "    opt = model.solve_discrete()\n",
    "    log_wF_wM.append(math.log(par.wF/par.wM))\n",
    "log_wF_wM\n",
    "\n",
    "# a. create the figure\n",
    "fig = plt.figure()\n",
    "\n",
    "# b. plot\n",
    "ax = fig.add_subplot(1,1,1)\n",
    "\n",
    "ax.plot(log_HF_HM,log_wF_wM)\n",
    "\n",
    "ax.set_title('test')\n",
    "ax.set_xlabel('log_HF_HM')\n",
    "ax.set_ylabel('log_wF_wM');"
   ]
  },
  {
   "cell_type": "markdown",
   "metadata": {},
   "source": [
    "# Question 3"
   ]
  },
  {
   "cell_type": "markdown",
   "metadata": {},
   "source": [
    "Explain your code and procedure"
   ]
  },
  {
   "cell_type": "code",
   "execution_count": null,
   "metadata": {},
   "outputs": [],
   "source": [
    "# code"
   ]
  },
  {
   "cell_type": "markdown",
   "metadata": {},
   "source": [
    "ADD CONCISE CONLUSION."
   ]
  }
 ],
 "metadata": {
  "kernelspec": {
   "display_name": "base",
   "language": "python",
   "name": "python3"
  },
  "language_info": {
   "codemirror_mode": {
    "name": "ipython",
    "version": 3
   },
   "file_extension": ".py",
   "mimetype": "text/x-python",
   "name": "python",
   "nbconvert_exporter": "python",
   "pygments_lexer": "ipython3",
   "version": "3.9.13"
  },
  "toc-autonumbering": true,
  "vscode": {
   "interpreter": {
    "hash": "ef7d60cb74a06f89873788cb6b863e210c3e7a0682d6849bb8ce72ef96db0933"
   }
  }
 },
 "nbformat": 4,
 "nbformat_minor": 4
}
