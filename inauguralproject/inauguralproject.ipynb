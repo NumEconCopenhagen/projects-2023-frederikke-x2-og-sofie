{
 "cells": [
  {
   "cell_type": "markdown",
   "metadata": {},
   "source": [
    "# Inaugural Project"
   ]
  },
  {
   "attachments": {},
   "cell_type": "markdown",
   "metadata": {},
   "source": [
    "> **Note the following:** \n",
    "> 1. This is an example of how to structure your **inaugural project**.\n",
    "> 1. Remember the general advice on structuring and commenting your code\n",
    "> 1. The `inauguralproject.py` file includes a function which can be used multiple times in this notebook."
   ]
  },
  {
   "cell_type": "markdown",
   "metadata": {},
   "source": [
    "Imports and set magics:"
   ]
  },
  {
   "cell_type": "code",
   "execution_count": null,
   "metadata": {},
   "outputs": [],
   "source": [
    "import numpy as np\n",
    "\n",
    "# autoreload modules when code is run. Otherwise, python will not see recent changes. \n",
    "%load_ext autoreload\n",
    "%autoreload 2\n",
    "\n",
    "# Import your own code\n",
    "import inauguralproject\n",
    "from HouseholdSpecializationModel import HouseholdSpecializationModelClass\n",
    "\n",
    "import matplotlib.pyplot as plt\n",
    "plt.rcParams.update({\"axes.grid\":True,\"grid.color\":\"black\",\"grid.alpha\":\"0.25\",\"grid.linestyle\":\"--\"})\n",
    "plt.rcParams.update({'font.size': 14})"
   ]
  },
  {
   "attachments": {},
   "cell_type": "markdown",
   "metadata": {},
   "source": [
    "- ændring"
   ]
  },
  {
   "cell_type": "code",
   "execution_count": null,
   "metadata": {},
   "outputs": [],
   "source": [
    "# Import Class\n",
    "model = HouseholdSpecializationModelClass()\n"
   ]
  },
  {
   "cell_type": "markdown",
   "metadata": {},
   "source": [
    "# Question 1"
   ]
  },
  {
   "cell_type": "markdown",
   "metadata": {},
   "source": [
    "**Explain how you solve the model**"
   ]
  },
  {
   "cell_type": "code",
   "execution_count": null,
   "metadata": {},
   "outputs": [],
   "source": [
    "# To find the changes in HF/HM when alpha=[0.25 , 0.5 , 0.75] is found by making a for loop:\n",
    "\n",
    "HF_HM_alpha = [] #defineing an empty list, for the values of HF/HM when alpha changes\n",
    "alphas = [0.25, 0.50, 0.75] #the alpha values\n",
    "sigma = 0.5\n",
    "for alpha in alphas: #for loop\n",
    "    model.par.alpha = alpha #importing the alpha from the Class\n",
    "    opt = model.solve_discrete() #importing the discrete function\n",
    "    HF_HM_alpha.append(opt.HF/opt.HM) #defining function HF/HM\n",
    "HF_HM_alpha #printing out the values for HF/HM when alpha changes"
   ]
  },
  {
   "cell_type": "code",
   "execution_count": null,
   "metadata": {},
   "outputs": [],
   "source": [
    "#The same for sigma\n",
    "HF_HM_sigma = []\n",
    "sigmas = [0.5, 1.0, 1.5]\n",
    "alpha = 0.5\n",
    "\n",
    "for sigma in sigmas:\n",
    "    model.par.sigma = sigma\n",
    "    opt = model.solve_discrete()\n",
    "    HF_HM_sigma.append(opt.HF/opt.HM)\n",
    "HF_HM_sigma"
   ]
  },
  {
   "attachments": {},
   "cell_type": "markdown",
   "metadata": {},
   "source": [
    "When $\\alpha$ changes the values for $\\frac{HF}{HM}$ becomes:\n",
    "- $\\alpha$ = 0.25 -> HF/HM = 0.21\n",
    "- alpha = 0.50 -> HF/HM = 1.0\n",
    "- alpha = 0.75 -> HF/HM = 4.67\n",
    "\n",
    "When sigma changes the values for HF/HM becomes:\n",
    "- sigma = 0.5 -> HF/HM = 3.25\n",
    "- sigma = 1.0 -> HF/HM = 3.25\n",
    "- sigma = 1.5 -> HF/HM = 3.25"
   ]
  },
  {
   "cell_type": "markdown",
   "metadata": {},
   "source": [
    "# Question 2"
   ]
  },
  {
   "cell_type": "markdown",
   "metadata": {},
   "source": [
    "Explain your code and procedure"
   ]
  },
  {
   "cell_type": "code",
   "execution_count": null,
   "metadata": {},
   "outputs": [],
   "source": [
    "log_wF_wM = []\n",
    "log_HF_HM = []\n",
    "wFs = [0.8, 0.9, 1.0, 1.1, 1.2]\n",
    "\n",
    "for wF in wFs:\n",
    "    model.par.wF = wF\n",
    "    opt = model.solve_discrete()\n",
    "    log_wF_wM.append(np.log(model.par.wF/model.par.wM))\n",
    "    log_HM_HF.append(np.log(model.par.HF/model.par.HM))\n",
    "log_wF_wM\n",
    "\n",
    "\n",
    "# a. create the figure\n",
    "fig = plt.figure()\n",
    "\n",
    "# b. plot\n",
    "ax = fig.add_subplot(1,1,1)\n",
    "\n",
    "ax.plot(log_HF_HM,log_wF_wM)\n",
    "\n",
    "ax.set_title('test')\n",
    "ax.set_xlabel('log_HF_HM')\n",
    "ax.set_ylabel('log_wF_wM');"
   ]
  },
  {
   "cell_type": "markdown",
   "metadata": {},
   "source": [
    "# Question 3"
   ]
  },
  {
   "cell_type": "markdown",
   "metadata": {},
   "source": [
    "Explain your code and procedure"
   ]
  },
  {
   "cell_type": "code",
   "execution_count": null,
   "metadata": {},
   "outputs": [],
   "source": [
    "# code"
   ]
  },
  {
   "cell_type": "markdown",
   "metadata": {},
   "source": [
    "ADD CONCISE CONLUSION."
   ]
  }
 ],
 "metadata": {
  "kernelspec": {
   "display_name": "base",
   "language": "python",
   "name": "python3"
  },
  "language_info": {
   "codemirror_mode": {
    "name": "ipython",
    "version": 3
   },
   "file_extension": ".py",
   "mimetype": "text/x-python",
   "name": "python",
   "nbconvert_exporter": "python",
   "pygments_lexer": "ipython3",
   "version": "3.9.13"
  },
  "toc-autonumbering": true,
  "vscode": {
   "interpreter": {
    "hash": "ef7d60cb74a06f89873788cb6b863e210c3e7a0682d6849bb8ce72ef96db0933"
   }
  }
 },
 "nbformat": 4,
 "nbformat_minor": 4
}
