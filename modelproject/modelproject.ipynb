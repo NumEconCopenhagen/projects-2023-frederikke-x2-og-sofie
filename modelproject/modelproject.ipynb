{
 "cells": [
  {
   "attachments": {},
   "cell_type": "markdown",
   "metadata": {},
   "source": [
    "# Model project"
   ]
  },
  {
   "attachments": {},
   "cell_type": "markdown",
   "metadata": {},
   "source": [
    "This project examine the OLG model with PAYG system. The model will be analysed analytically and numerically. Furthermore the effect of a change in tax will be analysed in steady state. "
   ]
  },
  {
   "cell_type": "code",
   "execution_count": 1,
   "metadata": {},
   "outputs": [],
   "source": [
    "# Import python modules\n",
    "import numpy as np\n",
    "from scipy import optimize\n",
    "import sympy as sm\n",
    "from types import SimpleNamespace\n",
    "import matplotlib.pyplot as plt\n",
    "import ipywidgets as widgets\n",
    "\n",
    "# Autoreload modules when code is run\n",
    "%load_ext autoreload\n",
    "%autoreload 2\n",
    "\n",
    "# Import local modules\n",
    "import Analysis as ay\n",
    "import numerical as nm"
   ]
  },
  {
   "attachments": {},
   "cell_type": "markdown",
   "metadata": {},
   "source": [
    "### The construction of the model"
   ]
  },
  {
   "attachments": {},
   "cell_type": "markdown",
   "metadata": {},
   "source": [
    "We are examining an economy with a constant population growth rate, $n>0$, where individuals live for two periods. During period $t$ individuals work and save their money, and in periode $t+1$ they live off their savings. Furthermore the market consist of identical competitive firms that maximizes their profit using Cobb-Douglas technology. Their production function therefore combines labor, $L_t$, and capital, $K_t$, such that $Y= A K_t^\\alpha L_t^{(1-\\alpha)}$, with $\\alpha\\in(0,1)$. Finally full capital depreciation is assumed. Profit maximization leads to further equations:\n",
    "$$r_t = \\alpha A k_t^{(\\alpha-1)},$$\n",
    "$$w_t = (1-\\alpha)A k_t^\\alpha,$$\n",
    "where $r_t$ denotes the rental rate of capital, $w_t$ denotes the wage rate, and $k_t$ denotes capital per worker. \n",
    "\n",
    "\n",
    "The individuals born in period $t$ have further utility function:\n",
    "$$U_t = \\ln c_{1t} + \\beta \\ln c_{2t+1},$$\n",
    "where $0 < \\beta < 1$. \n",
    "The parameter $c_{1t}$ denotes consumption when young, and $c_{2t+1}$ denotes consumption when old. The young individuals use all their time endowment working, which is therefore set to 1. The goverment runs a social security system which in place is an unfunded pay-as-you-go system where the young individuals make contributions to the current old generation. The young individuals therefore pays a contribution $d$ of thair wages. The parameter $d$ is then given by $d_t = \\tau w_t $ where $\\tau \\in (0,1)$. The contributions are payed to the old generation in the same period, and their consumption is therefore sustained by their savings and the contributions. The budget constraints in the two periods of life are therefore given by:\n",
    "$$c_{1t}+s_t = (1-\\tau)w_t,$$\n",
    "$$c_{2t+1} = (1+r_{t+1})s_t + (1+n) d_{t+1}.$$\n",
    "\n",
    "Because it is only the young generation that saves money, the capital accumulation is given by:\n",
    "$$K_{t+1}=s_t(w_t,(1+r_{t+1}))L_t \\Leftrightarrow k_{t+1} = \\frac{s_t(w_t,(1+r_{t+1}))}{1+n}$$"
   ]
  },
  {
   "attachments": {},
   "cell_type": "markdown",
   "metadata": {},
   "source": [
    "### Analytical analysis"
   ]
  },
  {
   "attachments": {},
   "cell_type": "markdown",
   "metadata": {},
   "source": [
    "First we find the Euler equation and the optimal equation for savings\n"
   ]
  },
  {
   "cell_type": "code",
   "execution_count": 2,
   "metadata": {},
   "outputs": [],
   "source": [
    "# a. Importing the class from modelproject.py\n",
    "model = ay.AnalysismodelclassOLG()\n",
    "par = model.par"
   ]
  },
  {
   "attachments": {},
   "cell_type": "markdown",
   "metadata": {},
   "source": [
    "The Euler equation shows the optimal path of consumption. We derive this from the savings problem of a young individual, which is\n",
    "$$\\max_{c_{1t}, c_{2t+1}} \\ln c_{1t} + \\beta \\ln c_{2t+1},$$\n",
    "subject to\n",
    "$$c_{1t}+s_t = (1-\\tau)w_t,$$\n",
    "$$c_{2t+1} = (1+r_{t+1})s_t + (1+n) d_{t+1}.$$"
   ]
  },
  {
   "cell_type": "code",
   "execution_count": 10,
   "metadata": {},
   "outputs": [
    {
     "name": "stdout",
     "output_type": "stream",
     "text": [
      "The utility function is found to be\n"
     ]
    },
    {
     "data": {
      "text/latex": [
       "$\\displaystyle U_{t} = \\log{\\left(c_{1t} \\right)} + \\frac{\\log{\\left(c_{2t+1} \\right)}}{\\rho + 1}$"
      ],
      "text/plain": [
       "Eq(U_t, log(c_1t) + log(c_{2t+1})/(rho + 1))"
      ]
     },
     "metadata": {},
     "output_type": "display_data"
    },
    {
     "name": "stdout",
     "output_type": "stream",
     "text": [
      "The intertemporal budget constraint is found to be\n"
     ]
    },
    {
     "data": {
      "text/latex": [
       "$\\displaystyle 0 = - w_{t} \\left(1 - \\tau\\right) + \\frac{c_{1t} r_{t+1} + c_{1t} + c_{2t+1} - n \\tau w_{t+1} - \\tau w_{t+1}}{r_{t+1} + 1}$"
      ],
      "text/plain": [
       "Eq(0, -w_t*(1 - tau) + (c_1t*r_{t+1} + c_1t + c_{2t+1} - n*tau*w_{t+1} - tau*w_{t+1})/(r_{t+1} + 1))"
      ]
     },
     "metadata": {},
     "output_type": "display_data"
    },
    {
     "name": "stdout",
     "output_type": "stream",
     "text": [
      "The Euler is found to be\n"
     ]
    },
    {
     "data": {
      "text/latex": [
       "$\\displaystyle \\frac{c_{2t+1} \\left(\\rho + 1\\right)}{r_{t+1} + 1} = c_{1t}$"
      ],
      "text/plain": [
       "Eq(c_{2t+1}*(rho + 1)/(r_{t+1} + 1), c_1t)"
      ]
     },
     "execution_count": 10,
     "metadata": {},
     "output_type": "execute_result"
    }
   ],
   "source": [
    "print('The utility function is found to be')\n",
    "display(sm.Eq(par.U_t, model.utilityfunc()))\n",
    "print('The intertemporal budget constraint is found to be')\n",
    "display(sm.Eq(0, model.budgetconstraint()))\n",
    "print('The Euler is found to be')\n",
    "model.euler()"
   ]
  },
  {
   "attachments": {},
   "cell_type": "markdown",
   "metadata": {},
   "source": [
    "Replacing $c_{1t}$ and $c_{2t+1}$ with the budgets constraint reveals the optimal saving in period $t$:"
   ]
  },
  {
   "cell_type": "code",
   "execution_count": 11,
   "metadata": {},
   "outputs": [
    {
     "name": "stdout",
     "output_type": "stream",
     "text": [
      "The optimal saving is found to be\n"
     ]
    },
    {
     "data": {
      "text/latex": [
       "$\\displaystyle s_{t} = \\frac{w_{t} \\left(- r_{t+1} \\tau + r_{t+1} - \\tau + 1\\right) + w_{t+1} \\left(- n \\rho \\tau - n \\tau - \\rho \\tau - \\tau\\right)}{r_{t+1} \\rho + 2 r_{t+1} + \\rho + 2}$"
      ],
      "text/plain": [
       "Eq(s_t, (w_t*(-r_{t+1}*tau + r_{t+1} - tau + 1) + w_{t+1}*(-n*rho*tau - n*tau - rho*tau - tau))/(r_{t+1}*rho + 2*r_{t+1} + rho + 2))"
      ]
     },
     "metadata": {},
     "output_type": "display_data"
    }
   ],
   "source": [
    "print('The optimal saving is found to be')\n",
    "display(sm.Eq(par.s_t, model.optimalsavings()))"
   ]
  },
  {
   "attachments": {},
   "cell_type": "markdown",
   "metadata": {},
   "source": [
    "### Finding the capital accumulation and steady state capital level"
   ]
  },
  {
   "attachments": {},
   "cell_type": "markdown",
   "metadata": {},
   "source": [
    "We substitute the optimal saving into the capital law of motioin to find the capital accumulation."
   ]
  },
  {
   "cell_type": "code",
   "execution_count": 12,
   "metadata": {},
   "outputs": [
    {
     "name": "stdout",
     "output_type": "stream",
     "text": [
      "The capital accumulation is\n"
     ]
    },
    {
     "data": {
      "text/latex": [
       "$\\displaystyle k_{t+1} = \\frac{A k_{t}^{\\alpha} \\left(1 - \\alpha\\right) \\left(1 - \\tau\\right)}{\\left(1 + \\frac{\\tau \\left(1 - \\alpha\\right) \\left(\\rho + 1\\right)}{\\alpha \\left(\\rho + 2\\right)}\\right) \\left(n + 1\\right) \\left(\\rho + 2\\right)}$"
      ],
      "text/plain": [
       "Eq(k_{t+1}, A*k_t**alpha*(1 - alpha)*(1 - tau)/((1 + tau*(1 - alpha)*(rho + 1)/(alpha*(rho + 2)))*(n + 1)*(rho + 2)))"
      ]
     },
     "execution_count": 12,
     "metadata": {},
     "output_type": "execute_result"
    }
   ],
   "source": [
    "model.capitalaccumulation()"
   ]
  },
  {
   "attachments": {},
   "cell_type": "markdown",
   "metadata": {},
   "source": [
    "We use the capital accumulation to find the steady state level of capital. We substitute $k^*$ for $k_t$ and $k_{t+1}$. Afterwards, we find an analytical solution of the steady state level of capital for given parameter values. "
   ]
  },
  {
   "cell_type": "code",
   "execution_count": 13,
   "metadata": {},
   "outputs": [
    {
     "name": "stdout",
     "output_type": "stream",
     "text": [
      "The steady state level of capital is defined as\n",
      "Eq(k^*, (A*(1 - alpha)*(1 - tau)/((1 + tau*(1 - alpha)*(rho + 1)/(alpha*(rho + 2)))*(n + 1)*(rho + 2)))**(1/(1 - alpha)))\n",
      "Steady state capital level with given parameter values is: \n"
     ]
    },
    {
     "data": {
      "text/plain": [
       "6.390887399044313"
      ]
     },
     "execution_count": 13,
     "metadata": {},
     "output_type": "execute_result"
    }
   ],
   "source": [
    "# a. Defining parameter values \n",
    "alpha2 = 1/3\n",
    "rho = 0.25\n",
    "n2 = 0.01\n",
    "tau2 = 0.25\n",
    "A2 = 20\n",
    "\n",
    "# b. Finding  and printing the analytical solution \n",
    "print('The steady state level of capital is defined as')\n",
    "k_star_func = sm.lambdify(args = (par.alpha, par.rho, par.n, par.tau, par.A), expr=model.steadystate_capital())\n",
    "\n",
    "# c. Printing the solution\n",
    "print('Steady state capital level with given parameter values is: ')\n",
    "k_star_func(alpha2,rho,n2,tau2,A2)"
   ]
  },
  {
   "attachments": {},
   "cell_type": "markdown",
   "metadata": {},
   "source": [
    "## Numerical solution"
   ]
  },
  {
   "attachments": {},
   "cell_type": "markdown",
   "metadata": {},
   "source": [
    "\n",
    "In this section, the results found in the analytical analysis in section 2.1 are tested against a numerical optimization of the model with the intention of finding the optimal level of capital, $k^*$, for a given set of parameter values."
   ]
  },
  {
   "cell_type": "code",
   "execution_count": null,
   "metadata": {},
   "outputs": [],
   "source": [
    "# a. The OLG class is called\n",
    "num_class = nm.OLG_modelClass()\n",
    "         \n",
    "# b. Plotting the optimal level of capital in the transition diagram\n",
    "\n",
    "# i. The function describing the transition curve is called    \n",
    "num_class.transition_curve()\n",
    "\n",
    "# ii. The figure is called and defined\n",
    "figure = plt.figure(figsize=(16,8))\n",
    "ax = figure.add_subplot(1,1,1)\n",
    "\n",
    "# iii. From the module, num_class, the graphs of the transition diagram are called\n",
    "num_class.plot_transition_curve(ax)\n",
    "num_class.plot_45_curve(ax)\n",
    "plt.plot(num_class.ss, num_class.ss, 'o', markersize=8, color='blue')\n",
    "plt.annotate(f'$k^*$ = {num_class.ss:.3f}', (num_class.ss-2, num_class.ss+1), size=12)\n",
    "plt.title('Figure 1: Transition Curve for Capital', loc='center', size=20)\n",
    "ax.spines['bottom'].set_linewidth(3)\n",
    "ax.spines['top'].set_linewidth(3)\n",
    "ax.spines['right'].set_linewidth(3)\n",
    "ax.spines['left'].set_linewidth(3)\n",
    "\n",
    "# iv. Display figure\n",
    "plt.show()\n",
    "\n",
    "# c. Print solution to the numerical analysis \n",
    "print(f'From numerical optimization, the optimal level of capital per capita is: {(num_class.ss):.4f}')"
   ]
  },
  {
   "attachments": {},
   "cell_type": "markdown",
   "metadata": {},
   "source": [
    "# Further analysis"
   ]
  },
  {
   "attachments": {},
   "cell_type": "markdown",
   "metadata": {},
   "source": [
    "### Steady state value of capital with varying parameter values"
   ]
  },
  {
   "attachments": {},
   "cell_type": "markdown",
   "metadata": {},
   "source": [
    "A function of capital per capita in steady state is constructed with flexible parameters, and baseline parameter values are defined. "
   ]
  },
  {
   "cell_type": "code",
   "execution_count": null,
   "metadata": {},
   "outputs": [],
   "source": [
    "# a. Construction of steady state function with flexible parameter values\n",
    "def steadystate(A, alpha, rho, n, tau):\n",
    "    output = k_star_func(A, alpha, rho, n, tau)\n",
    "    print(f'The steady state value of capital per capita solved for given parameter values is: {output:.3f}')\n",
    "    \n",
    "# b. Baseline parameter values\n",
    "alpha2 = 1/3\n",
    "rho2 = 0.25\n",
    "n2 = 0.01\n",
    "tau2 = 0.25\n",
    "A2 = 20 "
   ]
  },
  {
   "cell_type": "code",
   "execution_count": null,
   "metadata": {},
   "outputs": [],
   "source": [
    "# Showing a widget slider\n",
    "widgets.interact(\n",
    "        steadystate, \n",
    "        A = widgets.FloatSlider(description=\"A\", min=0, max=100, step=0.01, value=A2, continuous_update=False),  \n",
    "        alpha = widgets.FloatSlider(description=\"$\\\\alpha$\", min=0.01, max=0.99, step=0.01, value=alpha2, continuous_update=False),\n",
    "        rho = widgets.FloatSlider(description=\"$\\\\rho$\", min=0, max=0.99, step=0.01, value=rho2,  continuous_update=False),\n",
    "        n = widgets.FloatSlider(description=\"n\", min=-0.99, max=0.99, step=0.01, value=n2, continuous_update=False),    \n",
    "        tau = widgets.FloatSlider(description=\"$\\\\tau$\", min=0, max=0.99, value=tau2, step=0.01, continuous_update=False)\n",
    "\n",
    ")"
   ]
  },
  {
   "attachments": {},
   "cell_type": "markdown",
   "metadata": {},
   "source": [
    "### Graphic presentation of capital accumulation with varying tax rates"
   ]
  },
  {
   "cell_type": "code",
   "execution_count": null,
   "metadata": {},
   "outputs": [],
   "source": [
    "# a. Graphic presentation of the transition curve \n",
    "def plot_steadystate(k_t, alpha, rho, n, A, tau):                                \n",
    "    return (alpha*(1/(1+rho))*A*k_t**alpha*(alpha*tau-alpha-tau+1))/(alpha*(1/(1+rho))*n+alpha*(1/(1+rho))-alpha*tau*n+alpha*n-alpha*tau+alpha+ n*tau+tau)\n",
    "\n",
    "# b. Defining capital in each period and differing value of tax rates\n",
    "k_t = np.linspace(0,20,500)\n",
    "tau3=0.1\n",
    "tau4=0.2\n",
    "tau5=0.3\n",
    "tau6=0.4\n",
    "tau7=0.5\n",
    "\n",
    "\n",
    "# c. Plot and display figure\n",
    "fig = plt.figure(figsize = (12,7))\n",
    "ax = fig.add_subplot(1,1,1)\n",
    "plt.plot(k_t, plot_steadystate(k_t, alpha2, rho2, n2, A2, tau2), 'r') \n",
    "plt.plot(k_t, plot_steadystate(k_t, alpha2, rho2, n2, A2, tau3), 'b') \n",
    "plt.plot(k_t, plot_steadystate(k_t, alpha2, rho2, n2, A2, tau4), 'g')\n",
    "plt.plot(k_t, plot_steadystate(k_t, alpha2, rho2, n2, A2, tau5), 'yellow')\n",
    "plt.plot(k_t, plot_steadystate(k_t, alpha2, rho2, n2, A2, tau6), 'purple')\n",
    "plt.plot(k_t, plot_steadystate(k_t, alpha2, rho2, n2, A2, tau7), 'orange')\n",
    "plt.plot(k_t,k_t, 'black' )\n",
    "plt.title('Figure 2: Capital accumulation in OLG model with varying tax rates', fontsize=20)\n",
    "plt.legend(('Tax rate = 0.0', 'Tax rate = 0.1','Tax rate = 0.2','Tax rate = 0.3','Tax rate = 0.4', 'Tax rate = 0.5', '45\\N{DEGREE SIGN}-line'), loc='upper left')\n",
    "plt.xlabel('$ k_t $', fontsize=11)\n",
    "plt.ylabel( '$ k_ {t + 1} $', fontsize=11)\n",
    "\n",
    "plt.grid(True)\n",
    "plt.show()"
   ]
  },
  {
   "attachments": {},
   "cell_type": "markdown",
   "metadata": {},
   "source": [
    "# Conclusion"
   ]
  },
  {
   "attachments": {},
   "cell_type": "markdown",
   "metadata": {},
   "source": [
    "In this analysis, we solved the OLG model with PAYG system analytically and numerically. Both revealed approximately same results for the value of capital accumulation in equilibrium for for similar parameter values. \n",
    "\n",
    "Applying a non-negative tax rate on income will result in lower steady state value of capital per capita as seen from both the interactive plot of the analytical solution in section **3.0.1** and the graphic presentation of the transition curve in section **3.0.2**. This align with economic intuition, as higher tax rates will lower savings and thus capital accumulation."
   ]
  }
 ],
 "metadata": {
  "kernelspec": {
   "display_name": "base",
   "language": "python",
   "name": "python3"
  },
  "language_info": {
   "codemirror_mode": {
    "name": "ipython",
    "version": 3
   },
   "file_extension": ".py",
   "mimetype": "text/x-python",
   "name": "python",
   "nbconvert_exporter": "python",
   "pygments_lexer": "ipython3",
   "version": "3.9.13"
  },
  "toc-autonumbering": true,
  "vscode": {
   "interpreter": {
    "hash": "ef7d60cb74a06f89873788cb6b863e210c3e7a0682d6849bb8ce72ef96db0933"
   }
  }
 },
 "nbformat": 4,
 "nbformat_minor": 4
}
