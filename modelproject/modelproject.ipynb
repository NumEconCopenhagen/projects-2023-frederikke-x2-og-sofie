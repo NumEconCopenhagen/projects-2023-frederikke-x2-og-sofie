{
 "cells": [
  {
   "attachments": {},
   "cell_type": "markdown",
   "metadata": {},
   "source": [
    "# Model project"
   ]
  },
  {
   "attachments": {},
   "cell_type": "markdown",
   "metadata": {},
   "source": [
    "This project examine the OLG model with PAYG system. The model will be analysed analytically and numerically. Furthermore the effect of a change in tax will be analysed in steady state. "
   ]
  },
  {
   "cell_type": "code",
   "execution_count": 1,
   "metadata": {},
   "outputs": [],
   "source": [
    "# Import python modules\n",
    "import numpy as np\n",
    "from scipy import optimize\n",
    "import sympy as sm\n",
    "from types import SimpleNamespace\n",
    "import matplotlib.pyplot as plt\n",
    "import ipywidgets as widgets\n",
    "\n",
    "# Autoreload modules when code is run\n",
    "%load_ext autoreload\n",
    "%autoreload 2\n",
    "\n",
    "# Import local modules\n",
    "import Analysis as ay\n",
    "import numerical as nm"
   ]
  },
  {
   "attachments": {},
   "cell_type": "markdown",
   "metadata": {},
   "source": [
    "### The construction of the model"
   ]
  },
  {
   "attachments": {},
   "cell_type": "markdown",
   "metadata": {},
   "source": [
    "We are examining an economy with a constant population growth rate, $n>0$, where individuals live for two periods. During period $t$ individuals work and save their money, and in periode $t+1$ they live off their savings. Furthermore the market consist of identical competitive firms that maximizes their profit using Cobb-Douglas technology. Their production function therefore combines labor, $L_t$, and capital, $K_t$, such that $Y= A K_t^\\alpha L_t^{(1-\\alpha)}$, with $\\alpha\\in(0,1)$. Finally full capital depreciation is assumed. Profit maximization leads to further equations:\n",
    "$$r_t = \\alpha A k_t^{(\\alpha-1)},$$\n",
    "$$w_t = (1-\\alpha)A k_t^\\alpha,$$\n",
    "where $r_t$ denotes the rental rate of capital, $w_t$ denotes the wage rate, and $k_t$ denotes capital per worker. \n",
    "\n",
    "\n",
    "The individuals born in period $t$ have further utility function:\n",
    "$$U_t = \\ln c_{1t} + \\beta \\ln c_{2t+1},$$\n",
    "where $0 < \\beta < 1$. \n",
    "The parameter $c_{1t}$ denotes consumption when young, and $c_{2t+1}$ denotes consumption when old. The young individuals use all their time endowment working, which is therefore set to 1. The goverment runs a social security system which in place is an unfunded pay-as-you-go system where the young individuals make contributions to the current old generation. The young individuals therefore pays a contribution $d$ of thair wages. The parameter $d$ is then given by $d_t = \\tau w_t $ where $\\tau \\in (0,1)$. The contributions are payed to the old generation in the same period, and their consumption is therefore sustained by their savings and the contributions. The budget constraints in the two periods of life are therefore given by:\n",
    "$$c_{1t}+s_t = (1-\\tau)w_t,$$\n",
    "$$c_{2t+1} = (1+r_{t+1})s_t + (1+n) d_{t+1}.$$\n",
    "\n",
    "Because it is only the young generation that saves money, the capital accumulation is given by:\n",
    "$$K_{t+1}=s_t(w_t,(1+r_{t+1}))L_t \\Leftrightarrow k_{t+1} = \\frac{s_t(w_t,(1+r_{t+1}))}{1+n}$$"
   ]
  },
  {
   "attachments": {},
   "cell_type": "markdown",
   "metadata": {},
   "source": [
    "### Analytical analysis"
   ]
  },
  {
   "attachments": {},
   "cell_type": "markdown",
   "metadata": {},
   "source": [
    "In this section the Eulers equation is found and used to find the optimal level of saving. Furthermore the expression for saving is used to find the capital accumulation. Finally the steady state level of capital is found by the capital accumulation.\n"
   ]
  },
  {
   "cell_type": "code",
   "execution_count": 2,
   "metadata": {},
   "outputs": [],
   "source": [
    "# a. Importing the class from modelproject.py\n",
    "model_a = ay.AnalysismodelclassOLG()\n",
    "par = model_a.par"
   ]
  },
  {
   "attachments": {},
   "cell_type": "markdown",
   "metadata": {},
   "source": [
    "The Euler equation indicates the optimal path of consumption. We find the Euler equation by solving the problem of savings, which is given by the following: \n",
    "$$\\max_{c_{1t}, c_{2t+1}} \\ln c_{1t} + \\beta \\ln c_{2t+1},$$\n",
    "where the two secondary conditions is given by the consuption functions for the young and the old generation:\n",
    "$$c_{1t}+s_t = (1-\\tau)w_t,$$\n",
    "$$c_{2t+1} = (1+r_{t+1})s_t + (1+n) d_{t+1}.$$"
   ]
  },
  {
   "cell_type": "code",
   "execution_count": 3,
   "metadata": {},
   "outputs": [
    {
     "name": "stdout",
     "output_type": "stream",
     "text": [
      "First we find the utility function by lagrange\n"
     ]
    },
    {
     "data": {
      "text/latex": [
       "$\\displaystyle U_{t} = \\log{\\left(c_{1t} \\right)} + \\frac{\\log{\\left(c_{2t+1} \\right)}}{\\rho + 1}$"
      ],
      "text/plain": [
       "Eq(U_t, log(c_1t) + log(c_{2t+1})/(rho + 1))"
      ]
     },
     "metadata": {},
     "output_type": "display_data"
    },
    {
     "name": "stdout",
     "output_type": "stream",
     "text": [
      "We now find the intertemporal budget constraint that shows the relationship between consumption in period t and t+1\n"
     ]
    },
    {
     "data": {
      "text/latex": [
       "$\\displaystyle 0 = - w_{t} \\left(1 - \\tau\\right) + \\frac{c_{1t} r_{t+1} + c_{1t} + c_{2t+1} - n \\tau w_{t+1} - \\tau w_{t+1}}{r_{t+1} + 1}$"
      ],
      "text/plain": [
       "Eq(0, -w_t*(1 - tau) + (c_1t*r_{t+1} + c_1t + c_{2t+1} - n*tau*w_{t+1} - tau*w_{t+1})/(r_{t+1} + 1))"
      ]
     },
     "metadata": {},
     "output_type": "display_data"
    },
    {
     "name": "stdout",
     "output_type": "stream",
     "text": [
      "Finally we find the Euler equation\n"
     ]
    },
    {
     "data": {
      "text/latex": [
       "$\\displaystyle \\frac{c_{2t+1} \\left(\\rho + 1\\right)}{r_{t+1} + 1} = c_{1t}$"
      ],
      "text/plain": [
       "Eq(c_{2t+1}*(rho + 1)/(r_{t+1} + 1), c_1t)"
      ]
     },
     "execution_count": 3,
     "metadata": {},
     "output_type": "execute_result"
    }
   ],
   "source": [
    "print('First we find the utility function by lagrange')\n",
    "display(sm.Eq(par.U_t, model_a.utilityfunc()))\n",
    "print('We now find the intertemporal budget constraint that shows the relationship between consumption in period t and t+1')\n",
    "display(sm.Eq(0, model_a.budgetcon()))\n",
    "print('Finally we find the Euler equation')\n",
    "model_a.eulereq()"
   ]
  },
  {
   "attachments": {},
   "cell_type": "markdown",
   "metadata": {},
   "source": [
    "We now insert the equations for $c_{1t}$ and $c_{2t+1}$ into the Euler equation. This gives an expression for the optimal saving for period t, that only depends on the rental rate of capital and the wage rate."
   ]
  },
  {
   "cell_type": "code",
   "execution_count": 4,
   "metadata": {},
   "outputs": [
    {
     "data": {
      "text/latex": [
       "$\\displaystyle s_{t} = \\frac{w_{t} \\left(- r_{t+1} \\tau + r_{t+1} - \\tau + 1\\right) + w_{t+1} \\left(- n \\rho \\tau - n \\tau - \\rho \\tau - \\tau\\right)}{r_{t+1} \\rho + 2 r_{t+1} + \\rho + 2}$"
      ],
      "text/plain": [
       "Eq(s_t, (w_t*(-r_{t+1}*tau + r_{t+1} - tau + 1) + w_{t+1}*(-n*rho*tau - n*tau - rho*tau - tau))/(r_{t+1}*rho + 2*r_{t+1} + rho + 2))"
      ]
     },
     "metadata": {},
     "output_type": "display_data"
    }
   ],
   "source": [
    "display(sm.Eq(par.s_t, model_a.optimalsave()))"
   ]
  },
  {
   "attachments": {},
   "cell_type": "markdown",
   "metadata": {},
   "source": [
    "We now want to find the capital accumulation. This is done by inserting the expression for savings into the capital law of motion. "
   ]
  },
  {
   "cell_type": "code",
   "execution_count": 5,
   "metadata": {},
   "outputs": [
    {
     "name": "stdout",
     "output_type": "stream",
     "text": [
      "We find the capital accumulation to be given by\n"
     ]
    },
    {
     "data": {
      "text/latex": [
       "$\\displaystyle k_{t+1} = \\frac{A k_{t}^{\\alpha} \\left(1 - \\alpha\\right) \\left(1 - \\tau\\right)}{\\left(1 + \\frac{\\tau \\left(1 - \\alpha\\right) \\left(\\rho + 1\\right)}{\\alpha \\left(\\rho + 2\\right)}\\right) \\left(n + 1\\right) \\left(\\rho + 2\\right)}$"
      ],
      "text/plain": [
       "Eq(k_{t+1}, A*k_t**alpha*(1 - alpha)*(1 - tau)/((1 + tau*(1 - alpha)*(rho + 1)/(alpha*(rho + 2)))*(n + 1)*(rho + 2)))"
      ]
     },
     "execution_count": 5,
     "metadata": {},
     "output_type": "execute_result"
    }
   ],
   "source": [
    "model_a.capitalacc()"
   ]
  },
  {
   "attachments": {},
   "cell_type": "markdown",
   "metadata": {},
   "source": [
    "To find the steady state level of capital we insert $k^*=k_t=k_{t+1}$ in the capital accumulation. We furthermore expect the parameters to have the estimates below."
   ]
  },
  {
   "cell_type": "code",
   "execution_count": 10,
   "metadata": {},
   "outputs": [
    {
     "name": "stdout",
     "output_type": "stream",
     "text": [
      "The steady state is found to be\n"
     ]
    },
    {
     "data": {
      "text/latex": [
       "$\\displaystyle k^{*} = \\left(\\frac{A \\left(1 - \\alpha\\right) \\left(1 - \\tau\\right)}{\\left(1 + \\frac{\\tau \\left(1 - \\alpha\\right) \\left(\\rho + 1\\right)}{\\alpha \\left(\\rho + 2\\right)}\\right) \\left(n + 1\\right) \\left(\\rho + 2\\right)}\\right)^{\\frac{1}{1 - \\alpha}}$"
      ],
      "text/plain": [
       "Eq(k^*, (A*(1 - alpha)*(1 - tau)/((1 + tau*(1 - alpha)*(rho + 1)/(alpha*(rho + 2)))*(n + 1)*(rho + 2)))**(1/(1 - alpha)))"
      ]
     },
     "metadata": {},
     "output_type": "display_data"
    },
    {
     "name": "stdout",
     "output_type": "stream",
     "text": [
      "The steady state of capital is then given by:\n"
     ]
    },
    {
     "data": {
      "text/plain": [
       "6.390887399044313"
      ]
     },
     "execution_count": 10,
     "metadata": {},
     "output_type": "execute_result"
    }
   ],
   "source": [
    "# a. Defining parameter values \n",
    "alpha2 = 1/3\n",
    "rho = 0.25\n",
    "n2 = 0.01\n",
    "tau2 = 0.25\n",
    "A_tec_2 = 20\n",
    "\n",
    "# b. Finding  and printing the analytical solution \n",
    "kstar_function = sm.lambdify(args = (par.alpha, par.rho, par.n, par.tau, par.A), expr=model_a.cap_steadystate())\n",
    "\n",
    "# c. Printing the solution\n",
    "print('The steady state of capital is then given by:')\n",
    "kstar_function(alpha2,rho,n2,tau2,A_tec_2)"
   ]
  },
  {
   "attachments": {},
   "cell_type": "markdown",
   "metadata": {},
   "source": [
    "### Numerical analysis"
   ]
  },
  {
   "attachments": {},
   "cell_type": "markdown",
   "metadata": {},
   "source": [
    "We now use our results from the analytical analysis to find the steady state level of capital given different values of the parameters. We will use numerical optimization to find the steady state levels and present the solutions in a transition diagram."
   ]
  },
  {
   "cell_type": "code",
   "execution_count": null,
   "metadata": {},
   "outputs": [],
   "source": [
    "# a. The OLG class is called\n",
    "model_n = nm.AnalysismodelclassOLG()\n",
    "         \n",
    "# b. Plotting the optimal level of capital in the transition diagram\n",
    "\n",
    "# i. The function describing the transition curve is called    \n",
    "model_n.transition_curve()\n",
    "\n",
    "# ii. The figure is called and defined\n",
    "figure = plt.figure(figsize=(16,8))\n",
    "ax = figure.add_subplot(1,1,1)\n",
    "\n",
    "# iii. From the module, num_class, the graphs of the transition diagram are called\n",
    "num_class.plot_transition_curve(ax)\n",
    "num_class.plot_45_curve(ax)\n",
    "plt.plot(num_class.ss, num_class.ss, 'o', markersize=8, color='blue')\n",
    "plt.annotate(f'$k^*$ = {num_class.ss:.3f}', (num_class.ss-2, num_class.ss+1), size=12)\n",
    "plt.title('Figure 1: Transition Curve for Capital', loc='center', size=20)\n",
    "ax.spines['bottom'].set_linewidth(3)\n",
    "ax.spines['top'].set_linewidth(3)\n",
    "ax.spines['right'].set_linewidth(3)\n",
    "ax.spines['left'].set_linewidth(3)\n",
    "\n",
    "# iv. Display figure\n",
    "plt.show()"
   ]
  },
  {
   "attachments": {},
   "cell_type": "markdown",
   "metadata": {},
   "source": [
    "It is shown from the transition curve that capital is equal to 6.377 in equlibrium. The solution is found by numerical optimization which explains the difference from the result in the analytical analysis. "
   ]
  },
  {
   "attachments": {},
   "cell_type": "markdown",
   "metadata": {},
   "source": [
    "The steady state levels with different parameter values is now found. We define the baseline values and make a menu to vary the values of the parameters. "
   ]
  },
  {
   "cell_type": "code",
   "execution_count": null,
   "metadata": {},
   "outputs": [],
   "source": [
    "# a. Construction of steady state function with flexible parameter values\n",
    "def steadystate(A, alpha, rho, n, tau):\n",
    "    output = k_star_func(A, alpha, rho, n, tau)\n",
    "    print(f'Given the chosen parameter values the steady state value of capital per capita is given by: {output:.3f}')\n",
    "    \n",
    "# b. Baseline parameter values\n",
    "alpha2 = 1/3\n",
    "rho2 = 0.25\n",
    "n2 = 0.01\n",
    "tau2 = 0.25\n",
    "A2 = 20 "
   ]
  },
  {
   "cell_type": "code",
   "execution_count": null,
   "metadata": {},
   "outputs": [],
   "source": [
    "# Showing a widget slider\n",
    "widgets.interact(\n",
    "        steadystate, \n",
    "        A = widgets.FloatSlider(description=\"A\", min=0, max=100, step=0.01, value=A2, continuous_update=False),  \n",
    "        alpha = widgets.FloatSlider(description=\"alpha\", min=0.01, max=0.99, step=0.01, value=alpha2, continuous_update=False),\n",
    "        rho = widgets.FloatSlider(description=\"rho\", min=0, max=0.99, step=0.01, value=rho2,  continuous_update=False),\n",
    "        n = widgets.FloatSlider(description=\"n\", min=-0.99, max=0.99, step=0.01, value=n2, continuous_update=False),    \n",
    "        tau = widgets.FloatSlider(description=\"tau\", min=0, max=0.99, value=tau2, step=0.01, continuous_update=False)\n",
    "\n",
    ")"
   ]
  },
  {
   "attachments": {},
   "cell_type": "markdown",
   "metadata": {},
   "source": [
    "We now want to examine what happens to the steady state with different levels of taxes. We use a OLG model and plot the results into the transition diagram. "
   ]
  },
  {
   "cell_type": "code",
   "execution_count": null,
   "metadata": {},
   "outputs": [],
   "source": [
    "# a. Graphic presentation of the transition curve \n",
    "def plot_steadystate(k_t, alpha, rho, n, A, tau):                                \n",
    "    return (alpha*(1/(1+rho))*A*k_t**alpha*(alpha*tau-alpha-tau+1))/(alpha*(1/(1+rho))*n+alpha*(1/(1+rho))-alpha*tau*n+alpha*n-alpha*tau+alpha+ n*tau+tau)\n",
    "\n",
    "# b. Defining capital in each period and differing value of tax rates\n",
    "k_t = np.linspace(0,20,500)\n",
    "tau3=0.1\n",
    "tau4=0.2\n",
    "tau5=0.3\n",
    "tau6=0.4\n",
    "tau7=0.5\n",
    "\n",
    "\n",
    "# c. Plot and display figure\n",
    "fig = plt.figure(figsize = (12,7))\n",
    "ax = fig.add_subplot(1,1,1)\n",
    "plt.plot(k_t, plot_steadystate(k_t, alpha2, rho2, n2, A2, tau2), 'r') \n",
    "plt.plot(k_t, plot_steadystate(k_t, alpha2, rho2, n2, A2, tau3), 'b') \n",
    "plt.plot(k_t, plot_steadystate(k_t, alpha2, rho2, n2, A2, tau4), 'g')\n",
    "plt.plot(k_t, plot_steadystate(k_t, alpha2, rho2, n2, A2, tau5), 'yellow')\n",
    "plt.plot(k_t, plot_steadystate(k_t, alpha2, rho2, n2, A2, tau6), 'purple')\n",
    "plt.plot(k_t, plot_steadystate(k_t, alpha2, rho2, n2, A2, tau7), 'orange')\n",
    "plt.plot(k_t,k_t, 'black' )\n",
    "plt.title('Figure 2: Transition diagram with varying tax rates', fontsize=20)\n",
    "plt.legend(('Tax rate = 0.0', 'Tax rate = 0.1','Tax rate = 0.2','Tax rate = 0.3','Tax rate = 0.4', 'Tax rate = 0.5', '45\\N{DEGREE SIGN}-line'), loc='upper left')\n",
    "plt.xlabel('$ k_t $', fontsize=11)\n",
    "plt.ylabel( '$ k_ {t + 1} $', fontsize=11)\n",
    "\n",
    "plt.grid(True)\n",
    "plt.show()"
   ]
  },
  {
   "attachments": {},
   "cell_type": "markdown",
   "metadata": {},
   "source": [
    "### Conclusion"
   ]
  },
  {
   "attachments": {},
   "cell_type": "markdown",
   "metadata": {},
   "source": [
    "This project has analysed an economy consisting of 2 periods analytically and numerically. The economy has been solved through a OLG model with PAYG system. The analytical and numerical analysis showed approximately the same results for the steady state value of capital. Furthermore the project has analysed the development of the steady state of capital given different parameter values. A higher non negative tax rate on income will cause a lower steady state value of capital per capita. "
   ]
  }
 ],
 "metadata": {
  "kernelspec": {
   "display_name": "base",
   "language": "python",
   "name": "python3"
  },
  "language_info": {
   "codemirror_mode": {
    "name": "ipython",
    "version": 3
   },
   "file_extension": ".py",
   "mimetype": "text/x-python",
   "name": "python",
   "nbconvert_exporter": "python",
   "pygments_lexer": "ipython3",
   "version": "3.9.13"
  },
  "toc-autonumbering": true,
  "vscode": {
   "interpreter": {
    "hash": "3bad1400a985ed62f7a4654f3d53fc94f6f414c6319020b9b35ca558e84cb054"
   }
  }
 },
 "nbformat": 4,
 "nbformat_minor": 4
}
